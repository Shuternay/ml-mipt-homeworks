{
 "cells": [
  {
   "cell_type": "code",
   "execution_count": 1,
   "metadata": {
    "collapsed": true
   },
   "outputs": [],
   "source": [
    "import math\n",
    "import time\n",
    "import collections\n",
    "from tqdm import tqdm_notebook\n",
    "\n",
    "import numpy as np\n",
    "import pandas as pd\n",
    "import matplotlib.pyplot as plt\n",
    "import scipy.stats as sts\n",
    "from sklearn import model_selection\n",
    "from sklearn import naive_bayes, dummy\n",
    "from sklearn import datasets, metrics, neighbors\n",
    "from matplotlib.colors import ListedColormap\n",
    "\n",
    "%matplotlib inline"
   ]
  },
  {
   "cell_type": "code",
   "execution_count": 2,
   "metadata": {
    "collapsed": false,
    "scrolled": false
   },
   "outputs": [
    {
     "name": "stdout",
     "output_type": "stream",
     "text": [
      "[[  0.   0.   5.  13.   9.   1.   0.   0.   0.   0.  13.  15.  10.  15.\n",
      "    5.   0.   0.   3.  15.   2.   0.  11.   8.   0.   0.   4.  12.   0.\n",
      "    0.   8.   8.   0.   0.   5.   8.   0.   0.   9.   8.   0.   0.   4.\n",
      "   11.   0.   1.  12.   7.   0.   0.   2.  14.   5.  10.  12.   0.   0.\n",
      "    0.   0.   6.  13.  10.   0.   0.   0.]\n",
      " [  0.   0.   0.  12.  13.   5.   0.   0.   0.   0.   0.  11.  16.   9.\n",
      "    0.   0.   0.   0.   3.  15.  16.   6.   0.   0.   0.   7.  15.  16.\n",
      "   16.   2.   0.   0.   0.   0.   1.  16.  16.   3.   0.   0.   0.   0.\n",
      "    1.  16.  16.   6.   0.   0.   0.   0.   1.  16.  16.   6.   0.   0.\n",
      "    0.   0.   0.  11.  16.  10.   0.   0.]\n",
      " [  0.   0.   0.   4.  15.  12.   0.   0.   0.   0.   3.  16.  15.  14.\n",
      "    0.   0.   0.   0.   8.  13.   8.  16.   0.   0.   0.   0.   1.   6.\n",
      "   15.  11.   0.   0.   0.   1.   8.  13.  15.   1.   0.   0.   0.   9.\n",
      "   16.  16.   5.   0.   0.   0.   0.   3.  13.  16.  16.  11.   5.   0.\n",
      "    0.   0.   0.   3.  11.  16.   9.   0.]]\n",
      "\n",
      "['mean radius' 'mean texture' 'mean perimeter' 'mean area'\n",
      " 'mean smoothness' 'mean compactness' 'mean concavity'\n",
      " 'mean concave points' 'mean symmetry' 'mean fractal dimension'\n",
      " 'radius error' 'texture error' 'perimeter error' 'area error'\n",
      " 'smoothness error' 'compactness error' 'concavity error'\n",
      " 'concave points error' 'symmetry error' 'fractal dimension error'\n",
      " 'worst radius' 'worst texture' 'worst perimeter' 'worst area'\n",
      " 'worst smoothness' 'worst compactness' 'worst concavity'\n",
      " 'worst concave points' 'worst symmetry' 'worst fractal dimension']\n",
      "[[  1.79900000e+01   1.03800000e+01   1.22800000e+02   1.00100000e+03\n",
      "    1.18400000e-01   2.77600000e-01   3.00100000e-01   1.47100000e-01\n",
      "    2.41900000e-01   7.87100000e-02   1.09500000e+00   9.05300000e-01\n",
      "    8.58900000e+00   1.53400000e+02   6.39900000e-03   4.90400000e-02\n",
      "    5.37300000e-02   1.58700000e-02   3.00300000e-02   6.19300000e-03\n",
      "    2.53800000e+01   1.73300000e+01   1.84600000e+02   2.01900000e+03\n",
      "    1.62200000e-01   6.65600000e-01   7.11900000e-01   2.65400000e-01\n",
      "    4.60100000e-01   1.18900000e-01]\n",
      " [  2.05700000e+01   1.77700000e+01   1.32900000e+02   1.32600000e+03\n",
      "    8.47400000e-02   7.86400000e-02   8.69000000e-02   7.01700000e-02\n",
      "    1.81200000e-01   5.66700000e-02   5.43500000e-01   7.33900000e-01\n",
      "    3.39800000e+00   7.40800000e+01   5.22500000e-03   1.30800000e-02\n",
      "    1.86000000e-02   1.34000000e-02   1.38900000e-02   3.53200000e-03\n",
      "    2.49900000e+01   2.34100000e+01   1.58800000e+02   1.95600000e+03\n",
      "    1.23800000e-01   1.86600000e-01   2.41600000e-01   1.86000000e-01\n",
      "    2.75000000e-01   8.90200000e-02]\n",
      " [  1.96900000e+01   2.12500000e+01   1.30000000e+02   1.20300000e+03\n",
      "    1.09600000e-01   1.59900000e-01   1.97400000e-01   1.27900000e-01\n",
      "    2.06900000e-01   5.99900000e-02   7.45600000e-01   7.86900000e-01\n",
      "    4.58500000e+00   9.40300000e+01   6.15000000e-03   4.00600000e-02\n",
      "    3.83200000e-02   2.05800000e-02   2.25000000e-02   4.57100000e-03\n",
      "    2.35700000e+01   2.55300000e+01   1.52500000e+02   1.70900000e+03\n",
      "    1.44400000e-01   4.24500000e-01   4.50400000e-01   2.43000000e-01\n",
      "    3.61300000e-01   8.75800000e-02]]\n"
     ]
    }
   ],
   "source": [
    "digits = datasets.load_digits()\n",
    "print(digits.data[0:3])\n",
    "print()\n",
    "breast_cancer = datasets.load_breast_cancer()\n",
    "print(breast_cancer.feature_names)\n",
    "print(breast_cancer.data[0:3])"
   ]
  },
  {
   "cell_type": "code",
   "execution_count": 3,
   "metadata": {
    "collapsed": false
   },
   "outputs": [
    {
     "name": "stdout",
     "output_type": "stream",
     "text": [
      "digits:\n",
      "Dummy: 0.101278812861 , Bernoulli: 0.825823650778 , MultinomialNB: 0.870877148974 , Gaussian:  0.818600380355\n",
      "\n",
      "breast cancer:\n",
      "Dummy: 0.627420402859 , Bernoulli: 0.627420402859  , Bernoulli(3): 0.804966119001 , MultinomialNB: 0.894579040193 , Gaussian:  0.936749280609\n"
     ]
    }
   ],
   "source": [
    "digits_dummy_acc = model_selection.cross_val_score(\n",
    "    dummy.DummyClassifier(strategy='most_frequent'), digits.data, digits.target).mean()\n",
    "digits_bern_acc = model_selection.cross_val_score(\n",
    "    naive_bayes.BernoulliNB(), digits.data, digits.target).mean()\n",
    "digits_mult_acc = model_selection.cross_val_score(\n",
    "    naive_bayes.MultinomialNB(), digits.data, digits.target).mean()\n",
    "digits_gauss_acc = model_selection.cross_val_score(\n",
    "    naive_bayes.GaussianNB(), digits.data, digits.target).mean()\n",
    "\n",
    "bc_dummy_acc = model_selection.cross_val_score(\n",
    "    dummy.DummyClassifier(strategy='most_frequent'), breast_cancer.data, breast_cancer.target).mean()\n",
    "bc_bern_acc = model_selection.cross_val_score(\n",
    "    naive_bayes.BernoulliNB(), breast_cancer.data, breast_cancer.target).mean()\n",
    "bc_bern_acc_2 = model_selection.cross_val_score(\n",
    "    naive_bayes.BernoulliNB(binarize=3), breast_cancer.data, breast_cancer.target).mean()\n",
    "bc_mult_acc = model_selection.cross_val_score(\n",
    "    naive_bayes.MultinomialNB(), breast_cancer.data, breast_cancer.target).mean()\n",
    "bc_gauss_acc = model_selection.cross_val_score(\n",
    "    naive_bayes.GaussianNB(), breast_cancer.data, breast_cancer.target).mean()\n",
    "\n",
    "print('digits:')\n",
    "print('Dummy:', digits_dummy_acc, ', Bernoulli:', digits_bern_acc,\n",
    "      ', MultinomialNB:', digits_mult_acc, ', Gaussian: ', digits_gauss_acc)\n",
    "print()\n",
    "print('breast cancer:')\n",
    "print('Dummy:', bc_dummy_acc, ', Bernoulli:', bc_bern_acc, \n",
    "      ' , Bernoulli(3):', bc_bern_acc_2, ', MultinomialNB:', bc_mult_acc,\n",
    "      ', Gaussian: ', bc_gauss_acc)"
   ]
  },
  {
   "cell_type": "markdown",
   "metadata": {},
   "source": [
    "На датасете с целочисленными признаками (digits) лучше всех сработал классификатор с мультиномиальным распределением. На датасете с вещественными признаками (breast_cancer) лучше всех сработал классификатор с нормальным распределением.\n",
    "\n",
    "Классификатор с распределением Бернулли на датасете breast_cancer практически не работает (точности 0.627 можно достичь, всё время выдавая одинаковый ответ), поскольку почти все значения признаков больше нуля. Однако, если установать трешхолд равным 3, получится какой-то результат. Результат хуже остальных, поскольку трешхолд устанавливается одинаковым для всех признаков.\n",
    "\n",
    "1. Максимальная точность на датасете breast_cancer равна 93.7%\n",
    "2. Максимальная точность на датасете digits равна 87.1%\n",
    "3. Верны утверждения (c) и (d)"
   ]
  }
 ],
 "metadata": {
  "kernelspec": {
   "display_name": "Python 3",
   "language": "python",
   "name": "python3"
  },
  "language_info": {
   "codemirror_mode": {
    "name": "ipython",
    "version": 3
   },
   "file_extension": ".py",
   "mimetype": "text/x-python",
   "name": "python",
   "nbconvert_exporter": "python",
   "pygments_lexer": "ipython3",
   "version": "3.4.5"
  }
 },
 "nbformat": 4,
 "nbformat_minor": 0
}
